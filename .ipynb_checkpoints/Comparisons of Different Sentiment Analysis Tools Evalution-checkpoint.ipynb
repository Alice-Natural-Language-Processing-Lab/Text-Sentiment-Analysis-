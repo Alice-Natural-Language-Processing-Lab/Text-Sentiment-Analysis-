{
 "cells": [
  {
   "cell_type": "code",
   "execution_count": 1,
   "metadata": {
    "collapsed": false
   },
   "outputs": [],
   "source": [
    "import pandas as pd\n",
    "from sklearn.metrics import confusion_matrix\n",
    "from sklearn.metrics import classification_report"
   ]
  },
  {
   "cell_type": "code",
   "execution_count": 8,
   "metadata": {
    "collapsed": false
   },
   "outputs": [],
   "source": [
    "mc_sem = pd.read_csv('semantria and meaningcloud.csv')\n",
    "bing = pd.read_csv('Bing_Output.csv')"
   ]
  },
  {
   "cell_type": "code",
   "execution_count": 5,
   "metadata": {
    "collapsed": false
   },
   "outputs": [
    {
     "data": {
      "text/html": [
       "<div>\n",
       "<table border=\"1\" class=\"dataframe\">\n",
       "  <thead>\n",
       "    <tr style=\"text-align: right;\">\n",
       "      <th></th>\n",
       "      <th>Semantriaanalysis_for_neg</th>\n",
       "      <th>mcanalysis_for_neg</th>\n",
       "      <th>Semantriaanalysis_for_pos</th>\n",
       "      <th>mcanalysis_for_pos</th>\n",
       "    </tr>\n",
       "  </thead>\n",
       "  <tbody>\n",
       "    <tr>\n",
       "      <th>0</th>\n",
       "      <td>-1</td>\n",
       "      <td>-1</td>\n",
       "      <td>-1</td>\n",
       "      <td>0</td>\n",
       "    </tr>\n",
       "    <tr>\n",
       "      <th>1</th>\n",
       "      <td>-1</td>\n",
       "      <td>0</td>\n",
       "      <td>0</td>\n",
       "      <td>1</td>\n",
       "    </tr>\n",
       "    <tr>\n",
       "      <th>2</th>\n",
       "      <td>-1</td>\n",
       "      <td>1</td>\n",
       "      <td>0</td>\n",
       "      <td>1</td>\n",
       "    </tr>\n",
       "    <tr>\n",
       "      <th>3</th>\n",
       "      <td>-1</td>\n",
       "      <td>-1</td>\n",
       "      <td>0</td>\n",
       "      <td>-1</td>\n",
       "    </tr>\n",
       "    <tr>\n",
       "      <th>4</th>\n",
       "      <td>-1</td>\n",
       "      <td>0</td>\n",
       "      <td>1</td>\n",
       "      <td>1</td>\n",
       "    </tr>\n",
       "  </tbody>\n",
       "</table>\n",
       "</div>"
      ],
      "text/plain": [
       "   Semantriaanalysis_for_neg  mcanalysis_for_neg  Semantriaanalysis_for_pos  \\\n",
       "0                         -1                  -1                         -1   \n",
       "1                         -1                   0                          0   \n",
       "2                         -1                   1                          0   \n",
       "3                         -1                  -1                          0   \n",
       "4                         -1                   0                          1   \n",
       "\n",
       "   mcanalysis_for_pos  \n",
       "0                   0  \n",
       "1                   1  \n",
       "2                   1  \n",
       "3                  -1  \n",
       "4                   1  "
      ]
     },
     "execution_count": 5,
     "metadata": {},
     "output_type": "execute_result"
    }
   ],
   "source": [
    "mc_sem.head()"
   ]
  },
  {
   "cell_type": "code",
   "execution_count": 9,
   "metadata": {
    "collapsed": false
   },
   "outputs": [
    {
     "data": {
      "text/html": [
       "<div>\n",
       "<table border=\"1\" class=\"dataframe\">\n",
       "  <thead>\n",
       "    <tr style=\"text-align: right;\">\n",
       "      <th></th>\n",
       "      <th>Unnamed: 0</th>\n",
       "      <th>pos</th>\n",
       "      <th>neg</th>\n",
       "      <th>Bing_analysis_for_pos</th>\n",
       "      <th>Bing_analysis_for_neg</th>\n",
       "      <th>analysis_label_for_neg</th>\n",
       "      <th>analysis_label_for_pos</th>\n",
       "      <th>label_for_neg</th>\n",
       "      <th>label_for_pos</th>\n",
       "    </tr>\n",
       "  </thead>\n",
       "  <tbody>\n",
       "    <tr>\n",
       "      <th>0</th>\n",
       "      <td>0</td>\n",
       "      <td>films adapted from comic books have had plenty...</td>\n",
       "      <td>plot : two teen couples go to a church party ,...</td>\n",
       "      <td>-17</td>\n",
       "      <td>-3</td>\n",
       "      <td>0</td>\n",
       "      <td>0</td>\n",
       "      <td>0</td>\n",
       "      <td>1</td>\n",
       "    </tr>\n",
       "    <tr>\n",
       "      <th>1</th>\n",
       "      <td>1</td>\n",
       "      <td>every now and then a movie comes along from a ...</td>\n",
       "      <td>the happy bastard's quick movie review \\r\\ndam...</td>\n",
       "      <td>-1</td>\n",
       "      <td>2</td>\n",
       "      <td>1</td>\n",
       "      <td>0</td>\n",
       "      <td>0</td>\n",
       "      <td>1</td>\n",
       "    </tr>\n",
       "    <tr>\n",
       "      <th>2</th>\n",
       "      <td>2</td>\n",
       "      <td>you've got mail works alot better than it dese...</td>\n",
       "      <td>it is movies like these that make a jaded movi...</td>\n",
       "      <td>13</td>\n",
       "      <td>-3</td>\n",
       "      <td>0</td>\n",
       "      <td>1</td>\n",
       "      <td>0</td>\n",
       "      <td>1</td>\n",
       "    </tr>\n",
       "    <tr>\n",
       "      <th>3</th>\n",
       "      <td>3</td>\n",
       "      <td>\" jaws \" is a rare film that grabs your atten...</td>\n",
       "      <td>\" quest for camelot \" is warner bros . ' firs...</td>\n",
       "      <td>-5</td>\n",
       "      <td>-4</td>\n",
       "      <td>0</td>\n",
       "      <td>0</td>\n",
       "      <td>0</td>\n",
       "      <td>1</td>\n",
       "    </tr>\n",
       "    <tr>\n",
       "      <th>4</th>\n",
       "      <td>4</td>\n",
       "      <td>moviemaking is a lot like being the general ma...</td>\n",
       "      <td>synopsis : a mentally unstable man undergoing ...</td>\n",
       "      <td>-6</td>\n",
       "      <td>-10</td>\n",
       "      <td>0</td>\n",
       "      <td>0</td>\n",
       "      <td>0</td>\n",
       "      <td>1</td>\n",
       "    </tr>\n",
       "  </tbody>\n",
       "</table>\n",
       "</div>"
      ],
      "text/plain": [
       "   Unnamed: 0                                                pos  \\\n",
       "0           0  films adapted from comic books have had plenty...   \n",
       "1           1  every now and then a movie comes along from a ...   \n",
       "2           2  you've got mail works alot better than it dese...   \n",
       "3           3   \" jaws \" is a rare film that grabs your atten...   \n",
       "4           4  moviemaking is a lot like being the general ma...   \n",
       "\n",
       "                                                 neg  Bing_analysis_for_pos  \\\n",
       "0  plot : two teen couples go to a church party ,...                    -17   \n",
       "1  the happy bastard's quick movie review \\r\\ndam...                     -1   \n",
       "2  it is movies like these that make a jaded movi...                     13   \n",
       "3   \" quest for camelot \" is warner bros . ' firs...                     -5   \n",
       "4  synopsis : a mentally unstable man undergoing ...                     -6   \n",
       "\n",
       "   Bing_analysis_for_neg  analysis_label_for_neg  analysis_label_for_pos  \\\n",
       "0                     -3                       0                       0   \n",
       "1                      2                       1                       0   \n",
       "2                     -3                       0                       1   \n",
       "3                     -4                       0                       0   \n",
       "4                    -10                       0                       0   \n",
       "\n",
       "   label_for_neg  label_for_pos  \n",
       "0              0              1  \n",
       "1              0              1  \n",
       "2              0              1  \n",
       "3              0              1  \n",
       "4              0              1  "
      ]
     },
     "execution_count": 9,
     "metadata": {},
     "output_type": "execute_result"
    }
   ],
   "source": [
    "bing.head()"
   ]
  },
  {
   "cell_type": "code",
   "execution_count": 11,
   "metadata": {
    "collapsed": false
   },
   "outputs": [],
   "source": [
    "Bing_analysis = bing.analysis_label_for_neg.tolist() + bing.analysis_label_for_pos.tolist()\n",
    "True_label = bing.label_for_neg.tolist() + bing.label_for_pos.tolist()"
   ]
  },
  {
   "cell_type": "code",
   "execution_count": 12,
   "metadata": {
    "collapsed": false
   },
   "outputs": [
    {
     "data": {
      "text/plain": [
       "array([[822, 178],\n",
       "       [403, 597]])"
      ]
     },
     "execution_count": 12,
     "metadata": {},
     "output_type": "execute_result"
    }
   ],
   "source": [
    "confusion_matrix(True_label,Bing_analysis)"
   ]
  },
  {
   "cell_type": "markdown",
   "metadata": {},
   "source": [
    "# Bing Liu's Dictionary Sentiment Analysis Evalution"
   ]
  },
  {
   "cell_type": "code",
   "execution_count": 13,
   "metadata": {
    "collapsed": false
   },
   "outputs": [
    {
     "name": "stdout",
     "output_type": "stream",
     "text": [
      "             precision    recall  f1-score   support\n",
      "\n",
      "          0       0.67      0.82      0.74      1000\n",
      "          1       0.77      0.60      0.67      1000\n",
      "\n",
      "avg / total       0.72      0.71      0.71      2000\n",
      "\n"
     ]
    }
   ],
   "source": [
    "print classification_report(True_label,Bing_analysis)"
   ]
  },
  {
   "cell_type": "code",
   "execution_count": 14,
   "metadata": {
    "collapsed": true
   },
   "outputs": [],
   "source": [
    "semantria_analysis = mc_sem.Semantriaanalysis_for_neg.tolist() + mc_sem.Semantriaanalysis_for_pos.tolist()\n",
    "mc_analysis = mc_sem.mcanalysis_for_neg.tolist() + mc_sem.mcanalysis_for_pos.tolist()"
   ]
  },
  {
   "cell_type": "markdown",
   "metadata": {},
   "source": [
    "# Semantrica Sentiment Analysis Evaluation"
   ]
  },
  {
   "cell_type": "code",
   "execution_count": 15,
   "metadata": {
    "collapsed": false
   },
   "outputs": [
    {
     "name": "stdout",
     "output_type": "stream",
     "text": [
      "             precision    recall  f1-score   support\n",
      "\n",
      "         -1       0.00      0.00      0.00         0\n",
      "          0       0.40      0.36      0.38      1000\n",
      "          1       0.83      0.14      0.24      1000\n",
      "\n",
      "avg / total       0.61      0.25      0.31      2000\n",
      "\n"
     ]
    },
    {
     "name": "stderr",
     "output_type": "stream",
     "text": [
      "C:\\Users\\Miya\\AppData\\Local\\Enthought\\Canopy\\User\\lib\\site-packages\\sklearn\\metrics\\classification.py:1076: UndefinedMetricWarning: Recall and F-score are ill-defined and being set to 0.0 in labels with no true samples.\n",
      "  'recall', 'true', average, warn_for)\n"
     ]
    }
   ],
   "source": [
    "print classification_report(True_label,semantria_analysis)"
   ]
  },
  {
   "cell_type": "code",
   "execution_count": 16,
   "metadata": {
    "collapsed": false
   },
   "outputs": [
    {
     "data": {
      "text/plain": [
       "array([[  0,   0,   0],\n",
       "       [610, 361,  29],\n",
       "       [311, 551, 138]])"
      ]
     },
     "execution_count": 16,
     "metadata": {},
     "output_type": "execute_result"
    }
   ],
   "source": [
    "confusion_matrix(True_label,semantria_analysis)"
   ]
  },
  {
   "cell_type": "markdown",
   "metadata": {},
   "source": [
    "# MeaningCloud Sentiment Analysis Evaluation"
   ]
  },
  {
   "cell_type": "code",
   "execution_count": 17,
   "metadata": {
    "collapsed": false
   },
   "outputs": [
    {
     "name": "stdout",
     "output_type": "stream",
     "text": [
      "             precision    recall  f1-score   support\n",
      "\n",
      "         -1       0.00      0.00      0.00         0\n",
      "          0       0.54      0.38      0.45      1000\n",
      "          1       0.71      0.51      0.60      1000\n",
      "\n",
      "avg / total       0.63      0.45      0.52      2000\n",
      "\n"
     ]
    }
   ],
   "source": [
    "print classification_report(True_label,mc_analysis)"
   ]
  }
 ],
 "metadata": {
  "kernelspec": {
   "display_name": "Python 2",
   "language": "python",
   "name": "python2"
  },
  "language_info": {
   "codemirror_mode": {
    "name": "ipython",
    "version": 2
   },
   "file_extension": ".py",
   "mimetype": "text/x-python",
   "name": "python",
   "nbconvert_exporter": "python",
   "pygments_lexer": "ipython2",
   "version": "2.7.10"
  }
 },
 "nbformat": 4,
 "nbformat_minor": 0
}
