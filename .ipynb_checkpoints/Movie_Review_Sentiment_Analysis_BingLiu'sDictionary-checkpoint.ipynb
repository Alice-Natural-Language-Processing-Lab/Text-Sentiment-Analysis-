{
 "cells": [
  {
   "cell_type": "markdown",
   "metadata": {},
   "source": [
    "# Movie Review Sentiment Analysis\n",
    "\n",
    "* Use bing liu's dictionary\n",
    "\n"
   ]
  },
  {
   "cell_type": "code",
   "execution_count": 121,
   "metadata": {
    "collapsed": true
   },
   "outputs": [],
   "source": [
    "import csv\n",
    "import sys\n",
    "import os\n",
    "import glob\n",
    "import pandas as pd\n",
    "import nltk\n",
    "import matplotlib.pylab as plt\n",
    "from IPython.display import Image\n",
    "from sklearn.metrics import confusion_matrix\n",
    "from sklearn.metrics import classification_report"
   ]
  },
  {
   "cell_type": "code",
   "execution_count": 2,
   "metadata": {
    "collapsed": true
   },
   "outputs": [],
   "source": [
    "def isNotNull(value):\n",
    "    return value is not None and len(value)>0"
   ]
  },
  {
   "cell_type": "code",
   "execution_count": 8,
   "metadata": {
    "collapsed": false
   },
   "outputs": [],
   "source": [
    "neg_file = []\n",
    "os.chdir('C:\\Users\\Miya\\OneDrive\\Miya\\'sGithub\\Text-Sentiment-Analysis-/neg')\n",
    "for file in glob.glob('*.txt'):\n",
    "    neg_file.append(file)\n",
    "neg_content = []\n",
    "for i in range(len(neg_file)):\n",
    "    txt = open(neg_file[i])\n",
    "    neg_content.append(txt.read())"
   ]
  },
  {
   "cell_type": "code",
   "execution_count": 15,
   "metadata": {
    "collapsed": false
   },
   "outputs": [],
   "source": [
    "pos_file = []\n",
    "os.chdir('C:\\Users\\Miya\\OneDrive\\Miya\\'sGithub\\Text-Sentiment-Analysis-/pos')\n",
    "for file in glob.glob('*.txt'):\n",
    "    pos_file.append(file)\n",
    "pos_content = []\n",
    "for i in range(len(pos_file)):\n",
    "    txt = open(pos_file[i])\n",
    "    pos_content.append(txt.read())"
   ]
  },
  {
   "cell_type": "code",
   "execution_count": 25,
   "metadata": {
    "collapsed": false
   },
   "outputs": [
    {
     "data": {
      "text/html": [
       "<div>\n",
       "<table border=\"1\" class=\"dataframe\">\n",
       "  <thead>\n",
       "    <tr style=\"text-align: right;\">\n",
       "      <th></th>\n",
       "      <th>pos</th>\n",
       "      <th>neg</th>\n",
       "    </tr>\n",
       "  </thead>\n",
       "  <tbody>\n",
       "    <tr>\n",
       "      <th>0</th>\n",
       "      <td>films adapted from comic books have had plenty...</td>\n",
       "      <td>plot : two teen couples go to a church party ,...</td>\n",
       "    </tr>\n",
       "    <tr>\n",
       "      <th>1</th>\n",
       "      <td>every now and then a movie comes along from a ...</td>\n",
       "      <td>the happy bastard's quick movie review \\ndamn ...</td>\n",
       "    </tr>\n",
       "    <tr>\n",
       "      <th>2</th>\n",
       "      <td>you've got mail works alot better than it dese...</td>\n",
       "      <td>it is movies like these that make a jaded movi...</td>\n",
       "    </tr>\n",
       "    <tr>\n",
       "      <th>3</th>\n",
       "      <td>\" jaws \" is a rare film that grabs your atten...</td>\n",
       "      <td>\" quest for camelot \" is warner bros . ' firs...</td>\n",
       "    </tr>\n",
       "    <tr>\n",
       "      <th>4</th>\n",
       "      <td>moviemaking is a lot like being the general ma...</td>\n",
       "      <td>synopsis : a mentally unstable man undergoing ...</td>\n",
       "    </tr>\n",
       "  </tbody>\n",
       "</table>\n",
       "</div>"
      ],
      "text/plain": [
       "                                                 pos  \\\n",
       "0  films adapted from comic books have had plenty...   \n",
       "1  every now and then a movie comes along from a ...   \n",
       "2  you've got mail works alot better than it dese...   \n",
       "3   \" jaws \" is a rare film that grabs your atten...   \n",
       "4  moviemaking is a lot like being the general ma...   \n",
       "\n",
       "                                                 neg  \n",
       "0  plot : two teen couples go to a church party ,...  \n",
       "1  the happy bastard's quick movie review \\ndamn ...  \n",
       "2  it is movies like these that make a jaded movi...  \n",
       "3   \" quest for camelot \" is warner bros . ' firs...  \n",
       "4  synopsis : a mentally unstable man undergoing ...  "
      ]
     },
     "execution_count": 25,
     "metadata": {},
     "output_type": "execute_result"
    }
   ],
   "source": [
    "Bing_senti = pd.DataFrame()\n",
    "Bing_senti['pos'] = pos_content\n",
    "Bing_senti['neg'] = neg_content\n",
    "Bing_senti.head()\n",
    "Bing_senti"
   ]
  },
  {
   "cell_type": "markdown",
   "metadata": {},
   "source": [
    "## Load BIng Liu's Dictionary"
   ]
  },
  {
   "cell_type": "code",
   "execution_count": 34,
   "metadata": {
    "collapsed": false
   },
   "outputs": [],
   "source": [
    "os.chdir('C:\\Users\\Miya\\OneDrive\\Miya\\'sGithub\\Text-Sentiment-Analysis-/')\n",
    "dict_pos = []\n",
    "dict_neg = []\n",
    "f = open('negative-words.txt','r')\n",
    "for line in f:\n",
    "    t= line.strip().lower();\n",
    "    if (isNotNull(t)):\n",
    "        dict_neg.append(t)\n",
    "f.close()\n",
    "\n",
    "f = open('positive-words.txt','r')\n",
    "for line in f:\n",
    "    t = line.strip().lower();\n",
    "    if (isNotNull(t)):\n",
    "        dict_pos.append(t)\n",
    "f.close()"
   ]
  },
  {
   "cell_type": "code",
   "execution_count": 50,
   "metadata": {
    "collapsed": false
   },
   "outputs": [],
   "source": [
    "analysis_for_pos = []\n",
    "for i in range(len(Bing_senti)):\n",
    "    tokens = nltk.word_tokenize(pos_content[i])\n",
    "    neg_cnt = 0\n",
    "    pos_cnt = 0\n",
    "    for neg in dict_neg:\n",
    "        if (neg in tokens):\n",
    "            neg_cnt = neg_cnt +1\n",
    "    for pos in dict_pos:\n",
    "        if (pos in tokens):\n",
    "            pos_cnt = pos_cnt +1\n",
    "    analysis_for_pos.append(pos_cnt - neg_cnt)     \n",
    "Bing_senti['Bing_analysis_for_pos'] = analysis_for_pos"
   ]
  },
  {
   "cell_type": "code",
   "execution_count": 59,
   "metadata": {
    "collapsed": false
   },
   "outputs": [],
   "source": [
    "analysis_for_neg = []\n",
    "for i in range(len(Bing_senti)):\n",
    "    tokens = nltk.word_tokenize(neg_content[i])\n",
    "    neg_cnt = 0\n",
    "    pos_cnt = 0\n",
    "    for neg in dict_neg:\n",
    "        if (neg in tokens):\n",
    "            neg_cnt = neg_cnt +1\n",
    "    for pos in dict_pos:\n",
    "        if (pos in tokens):\n",
    "            pos_cnt = pos_cnt +1\n",
    "    analysis_for_neg.append(pos_cnt - neg_cnt)     \n",
    "Bing_senti['Bing_analysis_for_neg'] = analysis_for_neg"
   ]
  },
  {
   "cell_type": "code",
   "execution_count": 62,
   "metadata": {
    "collapsed": false
   },
   "outputs": [
    {
     "data": {
      "text/html": [
       "<div>\n",
       "<table border=\"1\" class=\"dataframe\">\n",
       "  <thead>\n",
       "    <tr style=\"text-align: right;\">\n",
       "      <th></th>\n",
       "      <th>pos</th>\n",
       "      <th>neg</th>\n",
       "      <th>Bing_analysis_for_pos</th>\n",
       "      <th>Bing_analysis_for_neg</th>\n",
       "    </tr>\n",
       "  </thead>\n",
       "  <tbody>\n",
       "    <tr>\n",
       "      <th>0</th>\n",
       "      <td>films adapted from comic books have had plenty...</td>\n",
       "      <td>plot : two teen couples go to a church party ,...</td>\n",
       "      <td>-17</td>\n",
       "      <td>-3</td>\n",
       "    </tr>\n",
       "    <tr>\n",
       "      <th>1</th>\n",
       "      <td>every now and then a movie comes along from a ...</td>\n",
       "      <td>the happy bastard's quick movie review \\ndamn ...</td>\n",
       "      <td>-1</td>\n",
       "      <td>2</td>\n",
       "    </tr>\n",
       "    <tr>\n",
       "      <th>2</th>\n",
       "      <td>you've got mail works alot better than it dese...</td>\n",
       "      <td>it is movies like these that make a jaded movi...</td>\n",
       "      <td>13</td>\n",
       "      <td>-3</td>\n",
       "    </tr>\n",
       "    <tr>\n",
       "      <th>3</th>\n",
       "      <td>\" jaws \" is a rare film that grabs your atten...</td>\n",
       "      <td>\" quest for camelot \" is warner bros . ' firs...</td>\n",
       "      <td>-5</td>\n",
       "      <td>-4</td>\n",
       "    </tr>\n",
       "    <tr>\n",
       "      <th>4</th>\n",
       "      <td>moviemaking is a lot like being the general ma...</td>\n",
       "      <td>synopsis : a mentally unstable man undergoing ...</td>\n",
       "      <td>-6</td>\n",
       "      <td>-10</td>\n",
       "    </tr>\n",
       "  </tbody>\n",
       "</table>\n",
       "</div>"
      ],
      "text/plain": [
       "                                                 pos  \\\n",
       "0  films adapted from comic books have had plenty...   \n",
       "1  every now and then a movie comes along from a ...   \n",
       "2  you've got mail works alot better than it dese...   \n",
       "3   \" jaws \" is a rare film that grabs your atten...   \n",
       "4  moviemaking is a lot like being the general ma...   \n",
       "\n",
       "                                                 neg  Bing_analysis_for_pos  \\\n",
       "0  plot : two teen couples go to a church party ,...                    -17   \n",
       "1  the happy bastard's quick movie review \\ndamn ...                     -1   \n",
       "2  it is movies like these that make a jaded movi...                     13   \n",
       "3   \" quest for camelot \" is warner bros . ' firs...                     -5   \n",
       "4  synopsis : a mentally unstable man undergoing ...                     -6   \n",
       "\n",
       "   Bing_analysis_for_neg  \n",
       "0                     -3  \n",
       "1                      2  \n",
       "2                     -3  \n",
       "3                     -4  \n",
       "4                    -10  "
      ]
     },
     "execution_count": 62,
     "metadata": {},
     "output_type": "execute_result"
    }
   ],
   "source": [
    "Bing_senti.head()"
   ]
  },
  {
   "cell_type": "code",
   "execution_count": 83,
   "metadata": {
    "collapsed": false
   },
   "outputs": [
    {
     "data": {
      "image/png": "[encoded data removed]",
      "text/plain": [
       "<IPython.core.display.Image object>"
      ]
     },
     "execution_count": 83,
     "metadata": {},
     "output_type": "execute_result"
    }
   ],
   "source": [
    "Bing_senti.Bing_analysis_for_pos.hist(bins = 20,color = 'pink')\n",
    "plt.title('Sentiment Analysis for Positive Reviews Distribution',fontsize = 20)\n",
    "plt.savefig('figure_1.png')\n",
    "Image('figure_1.png')"
   ]
  },
  {
   "cell_type": "code",
   "execution_count": 87,
   "metadata": {
    "collapsed": false
   },
   "outputs": [
    {
     "data": {
      "image/png": "[encoded data removed]",
      "text/plain": [
       "<IPython.core.display.Image object>"
      ]
     },
     "execution_count": 87,
     "metadata": {},
     "output_type": "execute_result"
    }
   ],
   "source": [
    "Bing_senti.Bing_analysis_for_neg.hist(color = 'pink')\n",
    "plt.title('Sentiment Analysis for Negative Reviews Distribution',fontsize = 20)\n",
    "plt.savefig('figure_2.png')\n",
    "Image('figure_2.png')"
   ]
  },
  {
   "cell_type": "code",
   "execution_count": 89,
   "metadata": {
    "collapsed": true
   },
   "outputs": [],
   "source": [
    "neg_analysis_label = []\n",
    "for i in analysis_for_neg:\n",
    "    if i >0:\n",
    "        neg_analysis_label.append(1)\n",
    "    else:\n",
    "        neg_analysis_label.append(0)\n",
    "        \n",
    "pos_analysis_label = []\n",
    "for i in analysis_for_pos:\n",
    "    if i >0:\n",
    "        pos_analysis_label.append(1)\n",
    "    else:\n",
    "        pos_analysis_label.append(0)"
   ]
  },
  {
   "cell_type": "code",
   "execution_count": 90,
   "metadata": {
    "collapsed": true
   },
   "outputs": [],
   "source": [
    "Bing_senti['analysis_label_for_neg'] = neg_analysis_label\n",
    "Bing_senti['analysis_label_for_pos'] = pos_analysis_label"
   ]
  },
  {
   "cell_type": "code",
   "execution_count": 93,
   "metadata": {
    "collapsed": false
   },
   "outputs": [
    {
     "data": {
      "text/html": [
       "<div>\n",
       "<table border=\"1\" class=\"dataframe\">\n",
       "  <thead>\n",
       "    <tr style=\"text-align: right;\">\n",
       "      <th></th>\n",
       "      <th>pos</th>\n",
       "      <th>neg</th>\n",
       "      <th>Bing_analysis_for_pos</th>\n",
       "      <th>Bing_analysis_for_neg</th>\n",
       "      <th>analysis_label_for_neg</th>\n",
       "      <th>analysis_label_for_pos</th>\n",
       "      <th>label_for_neg</th>\n",
       "      <th>label_for_pos</th>\n",
       "    </tr>\n",
       "  </thead>\n",
       "  <tbody>\n",
       "    <tr>\n",
       "      <th>0</th>\n",
       "      <td>films adapted from comic books have had plenty...</td>\n",
       "      <td>plot : two teen couples go to a church party ,...</td>\n",
       "      <td>-17</td>\n",
       "      <td>-3</td>\n",
       "      <td>0</td>\n",
       "      <td>0</td>\n",
       "      <td>0</td>\n",
       "      <td>1</td>\n",
       "    </tr>\n",
       "    <tr>\n",
       "      <th>1</th>\n",
       "      <td>every now and then a movie comes along from a ...</td>\n",
       "      <td>the happy bastard's quick movie review \\ndamn ...</td>\n",
       "      <td>-1</td>\n",
       "      <td>2</td>\n",
       "      <td>1</td>\n",
       "      <td>0</td>\n",
       "      <td>0</td>\n",
       "      <td>1</td>\n",
       "    </tr>\n",
       "    <tr>\n",
       "      <th>2</th>\n",
       "      <td>you've got mail works alot better than it dese...</td>\n",
       "      <td>it is movies like these that make a jaded movi...</td>\n",
       "      <td>13</td>\n",
       "      <td>-3</td>\n",
       "      <td>0</td>\n",
       "      <td>1</td>\n",
       "      <td>0</td>\n",
       "      <td>1</td>\n",
       "    </tr>\n",
       "    <tr>\n",
       "      <th>3</th>\n",
       "      <td>\" jaws \" is a rare film that grabs your atten...</td>\n",
       "      <td>\" quest for camelot \" is warner bros . ' firs...</td>\n",
       "      <td>-5</td>\n",
       "      <td>-4</td>\n",
       "      <td>0</td>\n",
       "      <td>0</td>\n",
       "      <td>0</td>\n",
       "      <td>1</td>\n",
       "    </tr>\n",
       "    <tr>\n",
       "      <th>4</th>\n",
       "      <td>moviemaking is a lot like being the general ma...</td>\n",
       "      <td>synopsis : a mentally unstable man undergoing ...</td>\n",
       "      <td>-6</td>\n",
       "      <td>-10</td>\n",
       "      <td>0</td>\n",
       "      <td>0</td>\n",
       "      <td>0</td>\n",
       "      <td>1</td>\n",
       "    </tr>\n",
       "  </tbody>\n",
       "</table>\n",
       "</div>"
      ],
      "text/plain": [
       "                                                 pos  \\\n",
       "0  films adapted from comic books have had plenty...   \n",
       "1  every now and then a movie comes along from a ...   \n",
       "2  you've got mail works alot better than it dese...   \n",
       "3   \" jaws \" is a rare film that grabs your atten...   \n",
       "4  moviemaking is a lot like being the general ma...   \n",
       "\n",
       "                                                 neg  Bing_analysis_for_pos  \\\n",
       "0  plot : two teen couples go to a church party ,...                    -17   \n",
       "1  the happy bastard's quick movie review \\ndamn ...                     -1   \n",
       "2  it is movies like these that make a jaded movi...                     13   \n",
       "3   \" quest for camelot \" is warner bros . ' firs...                     -5   \n",
       "4  synopsis : a mentally unstable man undergoing ...                     -6   \n",
       "\n",
       "   Bing_analysis_for_neg  analysis_label_for_neg  analysis_label_for_pos  \\\n",
       "0                     -3                       0                       0   \n",
       "1                      2                       1                       0   \n",
       "2                     -3                       0                       1   \n",
       "3                     -4                       0                       0   \n",
       "4                    -10                       0                       0   \n",
       "\n",
       "   label_for_neg  label_for_pos  \n",
       "0              0              1  \n",
       "1              0              1  \n",
       "2              0              1  \n",
       "3              0              1  \n",
       "4              0              1  "
      ]
     },
     "execution_count": 93,
     "metadata": {},
     "output_type": "execute_result"
    }
   ],
   "source": [
    "Bing_senti['label_for_neg'] = [0]*len(Bing_senti)\n",
    "Bing_senti['label_for_pos'] = [1]*len(Bing_senti)\n",
    "Bing_senti.head()"
   ]
  },
  {
   "cell_type": "code",
   "execution_count": 97,
   "metadata": {
    "collapsed": true
   },
   "outputs": [],
   "source": [
    "Bing_analysis = Bing_senti.analysis_label_for_neg.tolist() + Bing_senti.analysis_label_for_pos.tolist()"
   ]
  },
  {
   "cell_type": "code",
   "execution_count": 99,
   "metadata": {
    "collapsed": false
   },
   "outputs": [],
   "source": [
    "True_label = Bing_senti.label_for_neg.tolist() + Bing_senti.label_for_pos.tolist()"
   ]
  },
  {
   "cell_type": "code",
   "execution_count": 123,
   "metadata": {
    "collapsed": false
   },
   "outputs": [
    {
     "data": {
      "text/plain": [
       "array([[822, 178],\n",
       "       [403, 597]])"
      ]
     },
     "execution_count": 123,
     "metadata": {},
     "output_type": "execute_result"
    }
   ],
   "source": [
    "confusion_matrix(True_label,Bing_analysis)"
   ]
  },
  {
   "cell_type": "code",
   "execution_count": 119,
   "metadata": {
    "collapsed": false
   },
   "outputs": [
    {
     "name": "stdout",
     "output_type": "stream",
     "text": [
      "             precision    recall  f1-score   support\n",
      "\n",
      "          0       0.67      0.82      0.74      1000\n",
      "          1       0.77      0.60      0.67      1000\n",
      "\n",
      "avg / total       0.72      0.71      0.71      2000\n",
      "\n"
     ]
    }
   ],
   "source": [
    "print classification_report(True_label,Bing_analysis)"
   ]
  },
  {
   "cell_type": "code",
   "execution_count": 124,
   "metadata": {
    "collapsed": true
   },
   "outputs": [],
   "source": [
    "Bing_senti.to_csv('Bing_Output.csv')"
   ]
  }
 ],
 "metadata": {
  "kernelspec": {
   "display_name": "Python 2",
   "language": "python",
   "name": "python2"
  },
  "language_info": {
   "codemirror_mode": {
    "name": "ipython",
    "version": 2
   },
   "file_extension": ".py",
   "mimetype": "text/x-python",
   "name": "python",
   "nbconvert_exporter": "python",
   "pygments_lexer": "ipython2",
   "version": "2.7.10"
  }
 },
 "nbformat": 4,
 "nbformat_minor": 0
}
